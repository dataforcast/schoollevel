{
 "cells": [
  {
   "cell_type": "markdown",
   "id": "c475cd05",
   "metadata": {},
   "source": [
    "# Import"
   ]
  },
  {
   "cell_type": "code",
   "execution_count": null,
   "id": "e7838520",
   "metadata": {
    "ExecuteTime": {
     "end_time": "2023-08-01T11:42:30.686089Z",
     "start_time": "2023-08-01T11:42:30.642114Z"
    }
   },
   "outputs": [],
   "source": [
    "%load_ext autoreload\n",
    "%autoreload 2\n",
    "\n",
    "import warnings\n",
    "from warnings import simplefilter\n",
    "\n",
    "simplefilter(action='ignore', category=FutureWarning)\n",
    "simplefilter(action='ignore', category=UserWarning)\n",
    "from core.schoolpipeline import SchoolPipeline\n"
   ]
  },
  {
   "cell_type": "markdown",
   "id": "256f6b4f",
   "metadata": {},
   "source": [
    "# Pipeline process"
   ]
  },
  {
   "cell_type": "code",
   "execution_count": null,
   "id": "be0318d6",
   "metadata": {
    "ExecuteTime": {
     "end_time": "2023-08-01T11:40:13.499310Z",
     "start_time": "2023-08-01T11:39:39.717385Z"
    }
   },
   "outputs": [],
   "source": [
    "oSchoolPipeline = SchoolPipeline()\n",
    "oSchoolPipeline.process_binary_classification()"
   ]
  },
  {
   "cell_type": "code",
   "execution_count": null,
   "id": "d10b31ca",
   "metadata": {
    "ExecuteTime": {
     "end_time": "2023-08-01T11:40:13.538769Z",
     "start_time": "2023-08-01T11:40:13.501494Z"
    }
   },
   "outputs": [],
   "source": [
    "oSchoolPipeline._oSchool.df_student.loc[123]"
   ]
  },
  {
   "cell_type": "code",
   "execution_count": null,
   "id": "4460d218",
   "metadata": {
    "ExecuteTime": {
     "end_time": "2023-08-01T11:41:40.408812Z",
     "start_time": "2023-08-01T11:40:13.540184Z"
    }
   },
   "outputs": [],
   "source": [
    "oSchoolPipeline.interactive()"
   ]
  },
  {
   "cell_type": "code",
   "execution_count": null,
   "id": "06ceb67b",
   "metadata": {},
   "outputs": [],
   "source": []
  }
 ],
 "metadata": {
  "hide_input": false,
  "kernelspec": {
   "display_name": "Python 3",
   "language": "python",
   "name": "python3"
  },
  "language_info": {
   "codemirror_mode": {
    "name": "ipython",
    "version": 3
   },
   "file_extension": ".py",
   "mimetype": "text/x-python",
   "name": "python",
   "nbconvert_exporter": "python",
   "pygments_lexer": "ipython3",
   "version": "3.8.5"
  },
  "toc": {
   "base_numbering": 1,
   "nav_menu": {},
   "number_sections": true,
   "sideBar": true,
   "skip_h1_title": false,
   "title_cell": "Table of Contents",
   "title_sidebar": "Contents",
   "toc_cell": false,
   "toc_position": {},
   "toc_section_display": true,
   "toc_window_display": false
  }
 },
 "nbformat": 4,
 "nbformat_minor": 5
}
